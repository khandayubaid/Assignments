{
 "cells": [
  {
   "cell_type": "markdown",
   "metadata": {},
   "source": [
    "##  Assignment 3 Solutions\n",
    "##### SUBMITTED BY:- UBAID AHMAD KHANDAY\n",
    "\n",
    "###### Q1. Why are functions advantageous to have in your programs?\n",
    "\n",
    "Ans). Functions in programming provide modularity, breaking down complex tasks into manageable units for easier understanding and maintenance. Their reusability enables the same functionality to be employed in different parts of a program or across projects. Abstraction simplifies code use, hiding internal details. Functions enhance code readability by creating a clear structure and scoping, isolating variables. They play a vital role in overall code quality and efficiency, supporting scalable and collaborative software development.\n",
    "\n",
    "\n",
    "\n",
    "###### Q2. When does the code in a function run: when it's specified or when it's called?\n",
    "\n",
    "Ans). The code in a function runs when the function is called, not when it's defined. Function definition sets up the logic, and execution occurs upon invocation. This delayed execution promotes modularity and flexibility. Functions are activated when explicitly called in the program."
   ]
  },
  {
   "cell_type": "code",
   "execution_count": 1,
   "metadata": {},
   "outputs": [
    {
     "name": "stdout",
     "output_type": "stream",
     "text": [
      "My name is:ubaid\n"
     ]
    }
   ],
   "source": [
    "# Function with arguments\n",
    "def myfn(name):\n",
    "    print(\"My name is:\" +name)\n",
    "myfn(\"ubaid\")       #Function call"
   ]
  },
  {
   "cell_type": "markdown",
   "metadata": {},
   "source": [
    "###### Q3. What statement creates a function?\n",
    "\n",
    "\n",
    "Ans). The 'def' is used to create a function in python.It is followed by the function name, parameters (if any), and a block of code defining the function's behavior.\n",
    "\n",
    "example:-   def function_name(parameter):\n",
    "                ## function body\n",
    "\n",
    "\n",
    "###### Q4. What is the difference between a function and a function call?\n",
    "\n",
    "Ans). A function is a block of code designed to perform a specific task when invoked, and it is defined using keywords like def. A function call, on the other hand, is the actual execution of the function, using its name followed by parentheses and any required arguments.A function is a reusable piece of code with a specific purpose, while a function call is the act of using that code at a particular point in the program \n",
    "\n",
    "\n",
    "\n",
    "###### Q5. How many global scopes are there in a Python program? How many local scopes?\n",
    "\n",
    "Ans). In a Python program, there is one global scope, which is the outermost scope that encompasses the entire program. This global scope includes variables and functions defined at the top level of the script or module.\n",
    "\n",
    "For local scopes, each function call creates a new local scope. Therefore, the number of local scopes depends on the number of function calls made during the program's execution.\n"
   ]
  },
  {
   "cell_type": "code",
   "execution_count": 3,
   "metadata": {},
   "outputs": [
    {
     "name": "stdout",
     "output_type": "stream",
     "text": [
      "Local variable 10\n",
      "Global variable 1\n",
      "Outside function we can accesss global variable 1\n"
     ]
    }
   ],
   "source": [
    "world_bank=1      ##Global Scope\n",
    "\n",
    "def banks():\n",
    "    national_banks=10         ## Local Scope cannot access outside the function\n",
    "    \n",
    "    print(\"Local variable\",national_banks)\n",
    "    print(\"Global variable\",world_bank)\n",
    "    \n",
    "    \n",
    "banks()\n",
    "print(\"Outside function we can accesss global variable\",world_bank)"
   ]
  },
  {
   "cell_type": "markdown",
   "metadata": {},
   "source": [
    "###### Q6. What happens to variables in a local scope when the function call returns?\n",
    "\n",
    "Ans). When a function call returns in Python, the local scope is destroyed, and variables defined within that function cease to exist. They are limited to the function's runtime. Any attempt to access those variables outside the function will result in a NameError. \n",
    "\n",
    "\n",
    "###### Q7. What is the concept of a return value? Is it possible to have a return value in an expression?\n",
    "\n",
    "Ans).The concept of a return value in programming refers to the value a function provides upon completion. It represents the result of the function's execution and can be used in expressions or assigned to variables.Yes, it is possible to use a return value in an expression. In many programming languages, including Python, you can capture the return value of a function and use it directly in an expression or assign it to a variable. "
   ]
  },
  {
   "cell_type": "code",
   "execution_count": 5,
   "metadata": {},
   "outputs": [
    {
     "name": "stdout",
     "output_type": "stream",
     "text": [
      "25\n"
     ]
    }
   ],
   "source": [
    "def sum(a,b):\n",
    "    return a+b\n",
    "\n",
    "total=sum(10,15)\n",
    "print(total)\n",
    "    \n",
    "    "
   ]
  },
  {
   "cell_type": "markdown",
   "metadata": {},
   "source": [
    "###### Q8. If a function does not have a return statement, what is the return value of a call to that function?\n",
    "\n",
    "\n",
    "Ans).  When a function doesn't have a return statement, it automatically returns a special value called None. This serves as a default when there's no specific value to return. Consequently, if you assign the result of a call to such a function to a variable or use it in an expression, the value will be None. Explicitly using return without a value or not having a return statement at all both lead to the same outcome of returning None.\n",
    "\n",
    "\n",
    "###### Q9. How do you make a function variable refer to the global variable?\n",
    "\n",
    "Ans). To make a function variable refer to the global variable in Python, use the global keyword within the function. Declare the variable as global to indicate its association with the global scope. This allows the function to access and modify the global variable."
   ]
  },
  {
   "cell_type": "code",
   "execution_count": 8,
   "metadata": {},
   "outputs": [
    {
     "name": "stdout",
     "output_type": "stream",
     "text": [
      "Global variable Inside the function 1\n",
      "Outside function we can accesss global variable 1\n"
     ]
    }
   ],
   "source": [
    "world_bank=1      ##Global Scope\n",
    "\n",
    "def banks():\n",
    "    global world_bank     ##declare the intention using keyword 'global' \n",
    "    print(\"Global variable Inside the function\",world_bank)\n",
    "    \n",
    "    \n",
    "banks()\n",
    "print(\"Outside function we can accesss global variable\",world_bank)"
   ]
  },
  {
   "cell_type": "markdown",
   "metadata": {},
   "source": [
    "###### Q10. What is the data type of None?\n",
    "\n",
    "Ans). The data type of None is NoneType.\n",
    "\n",
    "\n",
    "###### Q11. What does the sentence import areallyourpetsnamederic do?\n",
    "\n",
    "Ans). The statement \"import areallyourpetsnamederic\" does not correspond to any standard Python module or package. If executed, it would result in an ImportError since Python cannot find a module with that name. "
   ]
  },
  {
   "cell_type": "code",
   "execution_count": 10,
   "metadata": {},
   "outputs": [
    {
     "ename": "ModuleNotFoundError",
     "evalue": "No module named 'areallyourpetsnamederic'",
     "output_type": "error",
     "traceback": [
      "\u001b[1;31m---------------------------------------------------------------------------\u001b[0m",
      "\u001b[1;31mModuleNotFoundError\u001b[0m                       Traceback (most recent call last)",
      "\u001b[1;32m<ipython-input-10-b1ea9cb2228f>\u001b[0m in \u001b[0;36m<module>\u001b[1;34m\u001b[0m\n\u001b[1;32m----> 1\u001b[1;33m \u001b[1;32mimport\u001b[0m \u001b[0mareallyourpetsnamederic\u001b[0m\u001b[1;33m\u001b[0m\u001b[1;33m\u001b[0m\u001b[0m\n\u001b[0m",
      "\u001b[1;31mModuleNotFoundError\u001b[0m: No module named 'areallyourpetsnamederic'"
     ]
    }
   ],
   "source": [
    "import areallyourpetsnamederic"
   ]
  },
  {
   "cell_type": "markdown",
   "metadata": {},
   "source": [
    "###### Q12. If you had a bacon() feature in a spam module, what would you call it after importing spam?\n",
    "\n",
    "Ans). import spam\n",
    "\n",
    "spam.bacon()\n",
    "\n",
    "We can use spam.bacon() to invoke the bacon() feature.\n",
    "\n",
    "\n",
    "\n",
    "###### Q13. What can you do to save a programme from crashing if it encounters an error?\n",
    "\n",
    "Ans).To prevent a program from crashing on error, use a try block to enclose potentially problematic code. Include except blocks to handle specific exceptions gracefully. Optionally, use an else block for code to run when no exceptions occur and a finally block for code that always runs.\n",
    "\n",
    "\n",
    "###### Q14. What can you do to save a programme from crashing if it encounters an error?\n",
    "\n",
    "Ans). The try clause in Python is used to enclose code that might raise an exception. Its purpose is to enable the program to continue execution even if an error occurs. The except clause is then used to specify the code to execute if a particular type of exception is encountered, allowing for controlled error handling. Multiple except blocks can be used for handling different types of exceptions."
   ]
  }
 ],
 "metadata": {
  "kernelspec": {
   "display_name": "Python 3",
   "language": "python",
   "name": "python3"
  },
  "language_info": {
   "codemirror_mode": {
    "name": "ipython",
    "version": 3
   },
   "file_extension": ".py",
   "mimetype": "text/x-python",
   "name": "python",
   "nbconvert_exporter": "python",
   "pygments_lexer": "ipython3",
   "version": "3.7.4"
  }
 },
 "nbformat": 4,
 "nbformat_minor": 2
}
