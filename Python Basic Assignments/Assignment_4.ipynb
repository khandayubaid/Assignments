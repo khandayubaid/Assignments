{
 "cells": [
  {
   "cell_type": "markdown",
   "metadata": {},
   "source": [
    "##  Assignment 3 Solutions\n",
    "##### SUBMITTED BY:- UBAID AHMAD KHANDAY\n",
    "\n",
    "###### Q1. What exactly is [ ]?\n",
    "\n",
    "Ans). The empty list represented by [] is a list that contains no items.\n",
    "empty_list = []\n",
    "\n",
    "\n",
    "###### Q2.In a list of values stored in a variable called spam, how would you assign the value 'hello' as the third value? (Assume [2, 4, 6, 8, 10] are in spam.)\n",
    "\n",
    "Ans). We can assign the value 'hello' as the third element (index 2) in a list using indexing."
   ]
  },
  {
   "cell_type": "code",
   "execution_count": 2,
   "metadata": {},
   "outputs": [
    {
     "data": {
      "text/plain": [
       "'hello'"
      ]
     },
     "execution_count": 2,
     "metadata": {},
     "output_type": "execute_result"
    }
   ],
   "source": [
    "spam = [2, 4, 6, 8, 10]\n",
    "spam[2] = 'hello'\n",
    "spam[2]"
   ]
  },
  {
   "cell_type": "markdown",
   "metadata": {},
   "source": [
    "### Let's pretend the spam includes the list ['a', 'b', 'c', 'd'] for the next three queries.\n",
    "\n",
    "###### Q3. What is the value of spam[int(int('3' * 2) / 11)]?\n",
    "\n",
    "Ans). The answer is 'd'"
   ]
  },
  {
   "cell_type": "code",
   "execution_count": 4,
   "metadata": {},
   "outputs": [
    {
     "data": {
      "text/plain": [
       "'d'"
      ]
     },
     "execution_count": 4,
     "metadata": {},
     "output_type": "execute_result"
    }
   ],
   "source": [
    "spam=['a','b','c','d']\n",
    "spam[int(int('3' * 2) / 11)]"
   ]
  },
  {
   "cell_type": "markdown",
   "metadata": {},
   "source": [
    "###### Q4. What is the value of spam[-1]?\n",
    "\n",
    "Ans). -1 means negative slicing therefore 'd' is the answer"
   ]
  },
  {
   "cell_type": "code",
   "execution_count": 5,
   "metadata": {},
   "outputs": [
    {
     "data": {
      "text/plain": [
       "'d'"
      ]
     },
     "execution_count": 5,
     "metadata": {},
     "output_type": "execute_result"
    }
   ],
   "source": [
    "spam[-1]"
   ]
  },
  {
   "cell_type": "markdown",
   "metadata": {},
   "source": [
    "###### Q5. What is the value of spam[-2]?"
   ]
  },
  {
   "cell_type": "code",
   "execution_count": 6,
   "metadata": {},
   "outputs": [
    {
     "data": {
      "text/plain": [
       "'c'"
      ]
     },
     "execution_count": 6,
     "metadata": {},
     "output_type": "execute_result"
    }
   ],
   "source": [
    "spam[-2]"
   ]
  },
  {
   "cell_type": "markdown",
   "metadata": {},
   "source": [
    "### Let's pretend bacon has the list [3.14, 'cat', 11, 'cat', True] for the next three questions.\n",
    "\n",
    "###### Q6. What is the value of bacon.index('cat')?\n",
    "\n",
    "Ans). It will return the first occurence of the string cat"
   ]
  },
  {
   "cell_type": "code",
   "execution_count": 9,
   "metadata": {},
   "outputs": [
    {
     "name": "stdout",
     "output_type": "stream",
     "text": [
      "1\n"
     ]
    }
   ],
   "source": [
    "bacon=[3.14, 'cat', 11, 'cat', True]\n",
    "print(bacon.index('cat'))"
   ]
  },
  {
   "cell_type": "markdown",
   "metadata": {},
   "source": [
    "###### Q7. How does bacon.append(99) change the look of the list value in bacon?\n",
    "\n",
    "Ans). It will append 99 in list of bacon. The updated list will be"
   ]
  },
  {
   "cell_type": "code",
   "execution_count": 10,
   "metadata": {},
   "outputs": [
    {
     "data": {
      "text/plain": [
       "[3.14, 'cat', 11, 'cat', True, 99]"
      ]
     },
     "execution_count": 10,
     "metadata": {},
     "output_type": "execute_result"
    }
   ],
   "source": [
    "bacon = [3.14, 'cat', 11, 'cat', True]\n",
    "bacon.append(99)\n",
    "bacon"
   ]
  },
  {
   "cell_type": "markdown",
   "metadata": {},
   "source": [
    "###### Q8. How does bacon.remove('cat') change the look of the list in bacon?\n",
    "\n",
    "Ans). It will remove the first instance of string 'cat' in the bacon list"
   ]
  },
  {
   "cell_type": "code",
   "execution_count": 11,
   "metadata": {},
   "outputs": [
    {
     "data": {
      "text/plain": [
       "[3.14, 11, 'cat', True]"
      ]
     },
     "execution_count": 11,
     "metadata": {},
     "output_type": "execute_result"
    }
   ],
   "source": [
    "bacon = [3.14, 'cat', 11, 'cat', True]\n",
    "bacon.remove('cat')\n",
    "bacon"
   ]
  },
  {
   "cell_type": "markdown",
   "metadata": {},
   "source": [
    "###### Q9. What are the list concatenation and list replication operators?\n",
    "\n",
    "Ans).  The list concatenation operator is '+', and the list replication operator is '*'.\n"
   ]
  },
  {
   "cell_type": "code",
   "execution_count": 12,
   "metadata": {},
   "outputs": [
    {
     "name": "stdout",
     "output_type": "stream",
     "text": [
      "['ML', 'DL', 'AI', 'CV', 'NLP', 'RNN', 'CNN', 'SVN']\n",
      "['RNN', 'CNN', 'SVN', 'RNN', 'CNN', 'SVN']\n"
     ]
    }
   ],
   "source": [
    "list_1 = ['ML','DL','AI','CV','NLP']\n",
    "list_2 = ['RNN','CNN','SVN']\n",
    "print(list_1 + list_2) # List Concatenation\n",
    "print(list_2*2) # List Replication"
   ]
  },
  {
   "cell_type": "markdown",
   "metadata": {},
   "source": [
    "###### Q10. What is difference between the list methods append() and insert()?\n",
    "\n",
    "Ans). The append() and insert() methods are both used to add elements to a list, but they differ in how they add elements and where the elements are placed in the list.The append will add element at the last while as insert will add at the specified index as shown in following example:"
   ]
  },
  {
   "cell_type": "code",
   "execution_count": 13,
   "metadata": {},
   "outputs": [
    {
     "name": "stdout",
     "output_type": "stream",
     "text": [
      "[1, 2, 3, 4, 5, 6]\n",
      "[1, 2, 'Demo', 3, 4, 5, 6]\n"
     ]
    }
   ],
   "source": [
    "list = [1,2,3,4,5]\n",
    "list.append(6)\n",
    "print(list)\n",
    "list.insert(2,'Demo')\n",
    "print(list)"
   ]
  },
  {
   "cell_type": "markdown",
   "metadata": {},
   "source": [
    "###### Q11. What are the two methods for removing items from a list?\n",
    "\n",
    "Ans). The del statement and the remove() method are two ways to remove values from a list\n",
    "\n",
    "\n",
    "###### Q12. Describe how list values and string values are identical.\n",
    "\n",
    "Ans). Lists and strings both represent ordered sequences, allowing for indexing and iteration. They share similarities in being iterable and supporting slicing operations. However, lists are mutable, enabling modifications, additions, and removals of elements, while strings are immutable, restricting direct alterations to characters. Lists can contain diverse data types, including nested lists, whereas strings consist of Unicode characters. The representation syntax and available methods differ, emphasizing distinctions in use cases and behavior.\n",
    "\n",
    "\n",
    "###### Q13. What's the difference between tuples and lists?\n",
    "\n",
    "Ans). Tuples and lists in Python are both ordered collections. The key difference is that tuples are immutable, meaning their elements cannot be changed, added, or removed after creation, while lists are mutable. Tuples use parentheses () for representation, and lists use square brackets []. Tuples are generally used for fixed collections, and lists are more flexible for dynamic data.\n",
    "\n",
    "###### Q14. How do you type a tuple value that only contains the integer 42?\n",
    "\n",
    "Ans). To create a tuple with the integer 42, we can enclose it within parentheses. Here's how we can type a tuple with the value 42\n",
    "\n",
    "my_tuple = (42,)\n"
   ]
  },
  {
   "cell_type": "code",
   "execution_count": 14,
   "metadata": {},
   "outputs": [
    {
     "name": "stdout",
     "output_type": "stream",
     "text": [
      "<class 'int'>\n",
      "<class 'tuple'>\n"
     ]
    }
   ],
   "source": [
    "tup1=(42)\n",
    "tup2=(42,)\n",
    "print(type(tup1))\n",
    "print(type(tup2))"
   ]
  },
  {
   "cell_type": "markdown",
   "metadata": {},
   "source": [
    "###### Q15. How do you get a list value's tuple form? How do you get a tuple value's list form?\n",
    "\n",
    "Ans). To convert a list to a tuple, we can use the tuple() constructor, and to convert a tuple to a list, we can use the list() constructor. \n",
    "\n",
    "\n",
    "###### Q16. Variables that \"contain\" list values are not necessarily lists themselves. Instead, what do they contain?\n",
    "\n",
    "Ans). Variables that \"contain\" list values in Python are not lists themselves; rather, they contain references or pointers to list objects. So, a variable that appears to \"contain\" a list actually holds a reference to the list object in memory.\n",
    "\n",
    "\n",
    "###### Q17. How do you distinguish between copy.copy() and copy.deepcopy()?\n",
    "\n",
    "Ans). copy.copy() creates a shallow copy of an object, duplicating the outer structure but referencing the same inner objects. copy.deepcopy() creates a deep copy, recursively duplicating both the outer and inner objects, ensuring changes in nested structures don't affect the original. Choose copy.deepcopy() for complex objects or structures. Use copy.copy() for simple objects with no nested references."
   ]
  }
 ],
 "metadata": {
  "kernelspec": {
   "display_name": "Python 3",
   "language": "python",
   "name": "python3"
  },
  "language_info": {
   "codemirror_mode": {
    "name": "ipython",
    "version": 3
   },
   "file_extension": ".py",
   "mimetype": "text/x-python",
   "name": "python",
   "nbconvert_exporter": "python",
   "pygments_lexer": "ipython3",
   "version": "3.7.4"
  }
 },
 "nbformat": 4,
 "nbformat_minor": 2
}
