{
 "cells": [
  {
   "cell_type": "markdown",
   "metadata": {},
   "source": [
    "##  Assignment_8 Solutions\n",
    "##### SUBMITTED BY:- UBAID AHMAD KHANDAY\n",
    "\n",
    "\n",
    "##### Q1.  In Python, what is the difference between a built-in function and a user-defined function? Provide an example of each.\n",
    "\n",
    "\n",
    "Ans).  Built-in functions in Python are pre-defined and part of the language's standard library, including commonly used functions like len(), print(), and max(). These functions are readily available for various general-purpose tasks. \n",
    "On the contrary, user-defined functions are created by the programmer using the def keyword, allowing customization for specific functionalities. For example, a user-defined function square(x) could calculate the square of a given number. User-defined functions contribute to code modularity, reusability, and abstraction, enabling developers to encapsulate complex logic. "
   ]
  },
  {
   "cell_type": "code",
   "execution_count": 3,
   "metadata": {},
   "outputs": [
    {
     "name": "stdout",
     "output_type": "stream",
     "text": [
      "Length of the list: 5\n"
     ]
    }
   ],
   "source": [
    "# Example of a built-in function\n",
    "numbers = [1, 2, 3, 4, 5]\n",
    "length = len(numbers)\n",
    "print(\"Length of the list:\", length)\n"
   ]
  },
  {
   "cell_type": "code",
   "execution_count": 2,
   "metadata": {},
   "outputs": [
    {
     "name": "stdout",
     "output_type": "stream",
     "text": [
      "Square of 4: 16\n"
     ]
    }
   ],
   "source": [
    "# Example of a user-defined function\n",
    "def square(x):\n",
    "    \"\"\"This function returns the square of a given number.\"\"\"\n",
    "    return x ** 2\n",
    "\n",
    "result = square(4)\n",
    "print(\"Square of 4:\", result)\n"
   ]
  },
  {
   "cell_type": "markdown",
   "metadata": {},
   "source": [
    "##### Q2.  How can you pass arguments to a function in Python? Explain the difference between positional arguments and keyword arguments.\n",
    "\n",
    "\n",
    "Ans).  Positional Arguments:\n",
    "\n",
    "Positional arguments are passed to a function based on their position in the function call.\n",
    "The order in which you provide the arguments matters, and each argument is associated with a specific parameter based on its position.\n",
    "\n",
    "def example_function(arg1, arg2, arg3):\n",
    "    # function implementation\n",
    "\n",
    "example_function(1, 2, 3)  # arg1=1, arg2=2, arg3=3\n",
    "\n",
    "\n",
    "Keyword Arguments:\n",
    "\n",
    "Keyword arguments are passed with the parameter name explicitly mentioned.\n",
    "This allows you to pass arguments in a different order or skip certain arguments, as long as you specify the parameter names.\n",
    "\n",
    "def example_function(arg1, arg2, arg3):\n",
    "    # function implementation\n",
    "\n",
    "example_function(1, 2, 3)  # arg1=1, arg2=2, arg3=3\n",
    "\n",
    "\n",
    "Difference:\n",
    "\n",
    "Positional arguments rely on the order of arguments in the function call.\n",
    "Keyword arguments are associated with the parameter names, allowing flexibility in argument order and the ability to skip certain arguments.\n",
    "\n",
    "\n",
    "\n",
    "##### Q3.  What is the purpose of the return statement in a function? Can a function have multiple return statements? Explain with an example.\n",
    "\n",
    "\n",
    "Ans)   The return statement in a function in Python serves the purpose of specifying the value(s) that the function should send back as a result when it is called. When a return statement is encountered, the function execution is halted, and the specified value is returned to the caller.\n",
    "\n",
    "A function can have multiple return statements. However, once a return statement is executed, the function exits, and no further code in that function is executed."
   ]
  },
  {
   "cell_type": "code",
   "execution_count": 8,
   "metadata": {},
   "outputs": [
    {
     "name": "stdout",
     "output_type": "stream",
     "text": [
      "5 is greater than 3.\n",
      "2 is less than 8.\n",
      "4 and 4 are equal.\n"
     ]
    }
   ],
   "source": [
    "def compare_numbers(a, b):\n",
    "    if a > b:\n",
    "        return f\"{a} is greater than {b}.\"\n",
    "    elif a < b:\n",
    "        return f\"{a} is less than {b}.\"\n",
    "    else:\n",
    "        return f\"{a} and {b} are equal.\"\n",
    "\n",
    "# Example usage:\n",
    "result1 = compare_numbers(5, 3)\n",
    "print(result1)  # Output: \"5 is greater than 3.\"\n",
    "\n",
    "result2 = compare_numbers(2, 8)\n",
    "print(result2)  # Output: \"2 is less than 8.\"\n",
    "\n",
    "result3 = compare_numbers(4, 4)\n",
    "print(result3)  # Output: \"4 and 4 are equal.\"\n"
   ]
  },
  {
   "cell_type": "markdown",
   "metadata": {},
   "source": [
    "##### Q4.  What are lambda functions in Python? How are they different from regular functions? Provide an example where a lambda function can be useful.\n",
    "\n",
    "\n",
    "Ans)   Lambda functions, also known as anonymous functions, are a concise way to create small, unnamed functions in Python. They are defined using the lambda keyword and are often used for short-term operations where a full function definition is not necessary. Lambda functions can take any number of arguments but can only have one expression.\n",
    "\n",
    "Here's a brief comparison between lambda functions and regular functions:\n",
    "\n",
    "Syntax:\n",
    "\n",
    "Lambda functions: Defined using the lambda keyword with a concise syntax.\n",
    "Regular functions: Defined using the def keyword with a more extensive syntax.\n",
    "\n",
    "Name:\n",
    "Lambda functions are anonymous; they don't have a name.\n",
    "Regular functions have a name, making them more suitable for complex and reusable code.\n",
    "\n",
    "Number of Expressions:\n",
    "Lambda functions are limited to a single expression.\n",
    "Regular functions can contain multiple expressions and statements.\n",
    "\n",
    "Use case for lambda functions:\n",
    "Lambda functions are often used in situations where a short, simple function is needed temporarily, such as in the context of functions like map(), filter(), and sorted()."
   ]
  },
  {
   "cell_type": "code",
   "execution_count": 4,
   "metadata": {},
   "outputs": [
    {
     "name": "stdout",
     "output_type": "stream",
     "text": [
      "[1, 4, 9, 16, 25]\n"
     ]
    }
   ],
   "source": [
    "numbers = [1, 2, 3, 4, 5]\n",
    "squared_numbers = list(map(lambda x: x**2, numbers))\n",
    "print(squared_numbers)  # Output: [1, 4, 9, 16, 25]\n"
   ]
  },
  {
   "cell_type": "markdown",
   "metadata": {},
   "source": [
    "##### Q5. How does the concept of \"scope\" apply to functions in Python? Explain the difference between local scope and global scope.\n",
    "\n",
    "In Python, the concept of \"scope\" refers to the region of the code where a variable is accessible. The scope determines where a variable can be used or modified, and it helps avoid naming conflicts between different parts of a program. There are two main types of scope in Python: local scope and global scope.\n",
    "\n",
    "Local Scope:\n",
    "\n",
    "Variables defined within a function have local scope. They are only accessible within that specific function.\n",
    "Once the function execution completes, the local variables are destroyed, and their values are no longer accessible.\n",
    "Example:\n",
    "def example_function():\n",
    "    local_variable = 10\n",
    "    print(local_variable)\n",
    "\n",
    "example_function()  # Output: 10\n",
    "#The following line would result in an error because local_variable is not defined here\n",
    "#print(local_variable)\n",
    "\n",
    "Global Scope:\n",
    "Variables defined outside of any function or block have global scope. They can be accessed from anywhere in the code, including within functions.\n",
    "Global variables persist throughout the entire program's execution.\n",
    "Example:\n",
    "global_variable = 20\n",
    "\n",
    "def example_function():\n",
    "    print(global_variable)\n",
    "\n",
    "example_function()  # Output: 20\n",
    "\n",
    "\n",
    "\n",
    "##### Q6.  How can you use the \"return\" statement in a Python function to return multiple values?\n",
    "\n",
    "Ans).  Here is how can we use:"
   ]
  },
  {
   "cell_type": "code",
   "execution_count": 5,
   "metadata": {},
   "outputs": [
    {
     "name": "stdout",
     "output_type": "stream",
     "text": [
      "(8, 15, 2)\n",
      "8\n",
      "15\n",
      "2\n"
     ]
    }
   ],
   "source": [
    "def multiple_values_function(a, b):\n",
    "    sum_result = a + b\n",
    "    product_result = a * b\n",
    "    difference_result = abs(a - b)\n",
    "    return sum_result, product_result, difference_result\n",
    "\n",
    "# Example usage:\n",
    "result_tuple = multiple_values_function(5, 3)\n",
    "print(result_tuple)\n",
    "# Output: (8, 15, 2)\n",
    "\n",
    "# Unpack the tuple into separate variables\n",
    "sum_result, product_result, difference_result = multiple_values_function(5, 3)\n",
    "print(sum_result)  # Output: 8\n",
    "print(product_result)  # Output: 15\n",
    "print(difference_result)  # Output: 2\n"
   ]
  },
  {
   "cell_type": "markdown",
   "metadata": {},
   "source": [
    "##### Q7.  What is the difference between the \"pass by value\" and \"pass by reference\" concepts when it comes to function arguments in Python?\n",
    "\n",
    "\n",
    "Ans).  In Python, the terms \"pass by value\" and \"pass by reference\" are often a source of confusion because the language uses a mechanism that is more accurately described as \"pass by object reference.\" Understanding this concept involves knowing how objects, references, and mutability work in Python.\n",
    "\n",
    "Pass by Value:\n",
    "In a true \"pass by value\" scenario, the value of the variable is passed to the function. Any changes made to the parameter inside the function do not affect the original variable outside the function.\n",
    "Immutable types in Python, like numbers and strings, exhibit a behavior similar to pass by value.\n",
    "\n",
    "Pass by Object Reference:\n",
    "Python is often considered \"pass by object reference,\" meaning a reference to the object is passed to the function. Changes to the object itself (if it's mutable) will affect the original object.\n",
    "Mutable types, like lists and dictionaries, demonstrate a behavior that appears like pass by reference.\n",
    "\n",
    "\n",
    "##### Q8.  Create a function that can intake integer or decimal value and do following operations:\n",
    "a. Logarithmic function (log x)\n",
    "b. Exponential function (exp(x))\n",
    "c. Power function with base 2 (2x)\n",
    "d. Square root"
   ]
  },
  {
   "cell_type": "code",
   "execution_count": 6,
   "metadata": {},
   "outputs": [
    {
     "name": "stdout",
     "output_type": "stream",
     "text": [
      "Input Value: 4.0\n",
      "Logarithmic Function (log x): 1.3862943611198906\n",
      "Exponential Function (exp(x)): 54.598150033144236\n",
      "Power Function with Base 2 (2^x): 16.0\n",
      "Square Root: 2.0\n"
     ]
    }
   ],
   "source": [
    "import math\n",
    "\n",
    "def mathematical_operations(x):\n",
    "    result = {\n",
    "        'logarithmic_function': math.log(x),\n",
    "        'exponential_function': math.exp(x),\n",
    "        'power_function_base_2': 2**x,\n",
    "        'square_root': math.sqrt(x)\n",
    "    }\n",
    "    return result\n",
    "input_value = 4.0\n",
    "results = mathematical_operations(input_value)\n",
    "\n",
    "# Display results\n",
    "print(f\"Input Value: {input_value}\")\n",
    "print(f\"Logarithmic Function (log x): {results['logarithmic_function']}\")\n",
    "print(f\"Exponential Function (exp(x)): {results['exponential_function']}\")\n",
    "print(f\"Power Function with Base 2 (2^x): {results['power_function_base_2']}\")\n",
    "print(f\"Square Root: {results['square_root']}\")\n"
   ]
  },
  {
   "cell_type": "markdown",
   "metadata": {},
   "source": [
    "##### Q9.  Create a function that takes a full name as an argument and returns first name and last name."
   ]
  },
  {
   "cell_type": "code",
   "execution_count": 7,
   "metadata": {},
   "outputs": [
    {
     "name": "stdout",
     "output_type": "stream",
     "text": [
      "Full Name: Ubaid Khanday\n",
      "First Name: Ubaid\n",
      "Last Name: Khanday\n"
     ]
    }
   ],
   "source": [
    "def split_full_name(full_name):\n",
    "  \n",
    "    names = full_name.split()\n",
    "    first_name = names[0] if names else None\n",
    "    last_name = names[-1] if len(names) > 1 else None\n",
    "    return first_name, last_name\n",
    "\n",
    "# Example usage:\n",
    "full_name = \"Ubaid Khanday\"\n",
    "first, last = split_full_name(full_name)\n",
    "\n",
    "# Display results\n",
    "print(f\"Full Name: {full_name}\")\n",
    "print(f\"First Name: {first}\")\n",
    "print(f\"Last Name: {last}\")\n"
   ]
  }
 ],
 "metadata": {
  "kernelspec": {
   "display_name": "Python 3",
   "language": "python",
   "name": "python3"
  },
  "language_info": {
   "codemirror_mode": {
    "name": "ipython",
    "version": 3
   },
   "file_extension": ".py",
   "mimetype": "text/x-python",
   "name": "python",
   "nbconvert_exporter": "python",
   "pygments_lexer": "ipython3",
   "version": "3.7.4"
  }
 },
 "nbformat": 4,
 "nbformat_minor": 2
}
