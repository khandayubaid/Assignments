{
 "cells": [
  {
   "cell_type": "markdown",
   "metadata": {},
   "source": [
    "##  Assignment_7 Solutions\n",
    "##### SUBMITTED BY:- UBAID AHMAD KHANDAY\n",
    "\n",
    "\n",
    "##### Q1.  Create two int type variables, apply addition, subtraction, division and multiplications and store the results in variables. Then print the data in the following format by calling thevariables:\n",
    "##### First variable is __ & second variable is __.\n",
    "##### Addition: __ + __ = __\n",
    "##### Subtraction: __ - __ = __\n",
    "##### Multiplication: __ * __ = __\n",
    "##### Division: __ / __ = __"
   ]
  },
  {
   "cell_type": "code",
   "execution_count": 1,
   "metadata": {},
   "outputs": [
    {
     "name": "stdout",
     "output_type": "stream",
     "text": [
      "First variable is 20 & second variable is 5\n",
      "Addition: 20 + 5 = 25\n",
      "Subtraction: 20 - 5 = 15\n",
      "Multiplication: 20 * 5 = 100\n",
      "Division: 20 + 5 = 4.0\n"
     ]
    }
   ],
   "source": [
    "first_variable=20\n",
    "second_variable=5\n",
    "\n",
    "addition= first_variable + second_variable\n",
    "subtraction= first_variable - second_variable\n",
    "multiplication= first_variable * second_variable\n",
    "division= first_variable / second_variable\n",
    "    \n",
    "print(f\"First variable is {first_variable} & second variable is {second_variable}\")\n",
    "print(f\"Addition: {first_variable} + {second_variable} = {addition}\")\n",
    "print(f\"Subtraction: {first_variable} - {second_variable} = {subtraction}\")\n",
    "print(f\"Multiplication: {first_variable} * {second_variable} = {multiplication}\")\n",
    "print(f\"Division: {first_variable} + {second_variable} = {division}\")"
   ]
  },
  {
   "cell_type": "markdown",
   "metadata": {},
   "source": [
    "##### Q2.  What is the difference between the following operators:\n",
    "##### (i)  '/' & '//':\n",
    "##### (ii)  '**' & '^':\n",
    "\n",
    "\n",
    "Ans).    (i) '/' & '//':\n",
    "'/' is the division operator in Python, which performs regular floating-point division. It returns a float even if the result is a whole number.   e,g   res = 9/4 === 2.2222\n",
    "'//' is the floor division operator in Python. It performs division and rounds down the result to the nearest whole number, returning an integer. It essentially discards the decimal part of the division result.  e,g 9//4 = 2\n",
    "\n",
    "\n",
    "(ii) '**' & '^':\n",
    "'**' is the exponentiation operator in Python. It raises the left operand to the power of the right operand. e,g 2**3 = 8\n",
    "\n",
    "'^' is not the exponentiation operator in Python; it is the bitwise XOR operator. It performs a bitwise XOR operation on the binary representations of the operands.  e,g 2^3 =1   (binary: 10 ^ 11 = 01)\n",
    "\n",
    "\n",
    "\n",
    "\n",
    "\n",
    "##### Q3.  List the logical operators.\n",
    "\n",
    "\n",
    "Ans).    The logical operators in Python are:\n",
    "\n",
    "i). 'and': Logical AND operator. Returns True if both operands are true.\n",
    "\n",
    "True and True    returns: True\n",
    "True and False   returns: False\n",
    "False and True   returns: False\n",
    "False and False  returns: False\n",
    "\n",
    "ii). 'or': Logical OR operator. Returns True if at least one of the operands is true.\n",
    "\n",
    "\n",
    "True and True    returns: True\n",
    "True and False   returns: True\n",
    "False and True   returns: True\n",
    "False and False  returns: False\n",
    "\n",
    "\n",
    "iii). 'not': Logical NOT operator. Returns True if the operand is false, and False if the operand is true.\n",
    "\n",
    "\n",
    "not True        returns: False\n",
    "not False       returns: True\n",
    "\n",
    "\n",
    "\n",
    "\n",
    "\n",
    "##### Q4. Explain right shift operator and left shift operator with examples.\n",
    "\n",
    "\n",
    "Ans). The right shift (>>) operator in Python shifts the bits of a binary number to the right by a specified number of positions, filling vacant positions with the sign bit or zero. It is akin to dividing the original number by 2 raised to the power of the shift count. For example, 16 >> 2 results in 4 (binary: 100).\n",
    "\n",
    "The left shift (<<) operator shifts bits to the left, filling vacant positions with zero. It is similar to multiplying the original number by 2 raised to the power of the shift count. For instance, 5 << 3 yields 40 (binary: 101000).\n"
   ]
  },
  {
   "cell_type": "code",
   "execution_count": 2,
   "metadata": {},
   "outputs": [
    {
     "name": "stdout",
     "output_type": "stream",
     "text": [
      "4\n"
     ]
    }
   ],
   "source": [
    "# Right Shift\n",
    "x = 16\n",
    "result = x >> 2  # Shift right by 2 positions\n",
    "print(result)    \n"
   ]
  },
  {
   "cell_type": "code",
   "execution_count": 3,
   "metadata": {},
   "outputs": [
    {
     "name": "stdout",
     "output_type": "stream",
     "text": [
      "40\n"
     ]
    }
   ],
   "source": [
    "# Left Shift\n",
    "y = 5\n",
    "result = y << 3  # Shift left by 3 positions\n",
    "print(result)    # Output: 40 (binary: 101000)\n"
   ]
  },
  {
   "cell_type": "markdown",
   "metadata": {},
   "source": [
    "##### Q5. Create a list containing int type data of length 15. Then write a code to check if 10 is present in the list or not.\n",
    "\n",
    "\n",
    "Ans).   Here we go:"
   ]
  },
  {
   "cell_type": "code",
   "execution_count": 4,
   "metadata": {},
   "outputs": [
    {
     "name": "stdout",
     "output_type": "stream",
     "text": [
      "10 is present in the list.\n"
     ]
    }
   ],
   "source": [
    "\n",
    "my_list = [3, 7, 12, 5, 8, 10, 15, 22, 18, 9, 14, 6, 20, 11, 25]\n",
    "\n",
    "\n",
    "if 10 in my_list:\n",
    "    print(\"10 is present in the list.\")\n",
    "else:\n",
    "    print(\"10 is not present in the list.\")\n"
   ]
  }
 ],
 "metadata": {
  "kernelspec": {
   "display_name": "Python 3",
   "language": "python",
   "name": "python3"
  },
  "language_info": {
   "codemirror_mode": {
    "name": "ipython",
    "version": 3
   },
   "file_extension": ".py",
   "mimetype": "text/x-python",
   "name": "python",
   "nbconvert_exporter": "python",
   "pygments_lexer": "ipython3",
   "version": "3.7.4"
  }
 },
 "nbformat": 4,
 "nbformat_minor": 2
}
