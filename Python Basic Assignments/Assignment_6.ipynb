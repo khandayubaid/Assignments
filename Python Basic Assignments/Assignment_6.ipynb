{
 "cells": [
  {
   "cell_type": "markdown",
   "metadata": {},
   "source": [
    "##  Assignment_6 Solutions\n",
    "##### SUBMITTED BY:- UBAID AHMAD KHANDAY\n",
    "\n",
    "\n",
    "###### Q1. What are keywords in python? Using the keyword library, print all the python keywords.\n",
    "\n",
    "Ans).   Keywords are reserved words that have a special meaning and cannot be used as identifiers (variable names, function names, etc.). These keywords define the syntax and structure of the language."
   ]
  },
  {
   "cell_type": "code",
   "execution_count": 9,
   "metadata": {},
   "outputs": [
    {
     "name": "stdout",
     "output_type": "stream",
     "text": [
      "Python Keywords:\n",
      "False, None, True, and, as, assert, async, await, break, class, continue, def, del, elif, else, except, finally, for, from, global, if, import, in, is, lambda, nonlocal, not, or, pass, raise, return, try, while, with, yield\n"
     ]
    }
   ],
   "source": [
    "import keyword\n",
    "all_keywords = keyword.kwlist\n",
    "print(\"Python Keywords:\")\n",
    "print(\", \".join(all_keywords))\n"
   ]
  },
  {
   "cell_type": "markdown",
   "metadata": {},
   "source": [
    "###### Q2. What are the rules to create variables in python?\n",
    "\n",
    "Ans).  Variable names can contain letters (a-z, A-Z), digits (0-9), and underscores (_).\n",
    "They cannot start with a digit and are case-sensitive.\n",
    "Avoid using Python keywords as variable names (e.g., if, else, while).\n",
    "Variable names cannot contain spaces or special characters (except underscore).\n",
    "\n",
    "\n",
    "###### Q3. What are the standards and conventions followed for the nomenclature of variables in python to improve code readability and maintainability?\n",
    "\n",
    "Ans).  Snake Case: Use lowercase letters and underscores to separate words (e.g., my_variable).\n",
    "Descriptive Names: Choose meaningful and descriptive names for variables to convey their purpose.\n",
    "Avoid Single Underscores: Avoid using a single underscore (_) as a variable name, as it is often reserved for specific contexts.\n",
    "Constants: For constants, use all uppercase letters with underscores (e.g., MAX_VALUE).\n",
    "Private Variables: Prefix variables intended for internal use within a class or module with a single underscore (e.g., _internal_variable).\n",
    "Double Underscores for Name Mangling: Use double underscores for name mangling in classes (e.g., __mangled_variable).\n",
    "\n",
    "\n",
    "###### Q4.   What will happen if a keyword is used as a variable name?\n",
    "\n",
    "Ans). Using a Python keyword as a variable name will result in a SyntaxError since keywords are reserved. For example, attempting to assign a value to a variable named if or while will raise an error. \n",
    "\n",
    "\n",
    "###### Q5.   For what purpose def keyword is used?\n",
    "\n",
    "Ans).  The def keyword in Python is used to define a function. When you use def followed by a function name and a block of code, you are creating a function definition. This allows you to encapsulate a sequence of statements into a reusable and modular unit.\n",
    "\n",
    "\n",
    "###### Q6.   What is the operation of this special character ‘\\’?\n",
    "\n",
    "Ans).  The backslash (\\) is a special character in Python. It is used as an escape character, indicating that the character following it has a special meaning.\n",
    "\n",
    "\n",
    "###### Q7.   Give an example of the following conditions:\n",
    "###### (i) Homogeneous list\n",
    "###### (ii) Heterogeneous set\n",
    "###### (iii) Homogeneous tuple\n",
    "\n",
    "\n",
    "Ans).  (i) Homogeneous list:- A list containing elements of the same data type.\n",
    "\n",
    "           homogeneous_list = [1, 2, 3, 4, 5]\n",
    "    \n",
    "    (ii) Heterogeneous set:- A set containing elements of different data types.\n",
    "    \n",
    "           heterogeneous_set = {1, 'apple', 3.14, (1, 2)}\n",
    "\n",
    "   (iii) Homogeneous tuple:-  A tuple containing elements of the same data type.\n",
    "   \n",
    "            homogeneous_tuple = ('red', 'green', 'blue')\n",
    "\n"
   ]
  },
  {
   "cell_type": "markdown",
   "metadata": {},
   "source": [
    "###### Q8.   Explain the mutable and immutable data types with proper explanation & examples.\n",
    "\n",
    "Ans).  Mutable data types in Python, such as lists and dictionaries, allow modifications to their values after creation. For example, you can alter a list's elements or add/remove items from a dictionary.\n",
    "When we modify a mutable object, you are working with the same object in memory.\n",
    "\n",
    "  Example            mutable_list = [1, 2, 3]\n",
    "              mutable_list[0] = 99             # Modifying the list\n",
    "              \n",
    " On the other hand, immutable data types, like tuples and strings, cannot be changed once instantiated. Any operation that appears to modify them actually creates a new object.When we perform an operation that seems to modify an immutable object, it actually creates a new object.\n",
    " \n",
    " Example              immutable_tuple = (1, 2, 3)\n",
    "\n",
    "   The following line would raise an error since tuples are immutable"
   ]
  },
  {
   "cell_type": "markdown",
   "metadata": {},
   "source": [
    "###### Q9.   Write a code to create the given structure using only for loop.\n",
    "         *\n",
    "        ***\n",
    "       *****\n",
    "      *******\n",
    "     *********"
   ]
  },
  {
   "cell_type": "code",
   "execution_count": 10,
   "metadata": {},
   "outputs": [
    {
     "name": "stdout",
     "output_type": "stream",
     "text": [
      "Enter: 5\n",
      "    *    \n",
      "   ***   \n",
      "  *****  \n",
      " ******* \n",
      "*********\n"
     ]
    }
   ],
   "source": [
    "def pattern():\n",
    "    \n",
    "    for i in range(n):\n",
    "        for j in range(n - i - 1):  # for spaces\n",
    "            print(\" \",end=\"\")\n",
    "        for j in range(2 * i + 1):\n",
    "            print(\"*\",end=\"\")\n",
    "        for j in range(n - i - 1):  # for spaces\n",
    "            print(\" \",end=\"\")\n",
    "        print()  # Move to the next line after printing each row\n",
    "\n",
    "n = int(input(\"Enter: \"))\n",
    "pattern()"
   ]
  },
  {
   "cell_type": "markdown",
   "metadata": {},
   "source": [
    "###### Q10.   Write a code to create the given structure using while loop.\n",
    "     |||||||||\n",
    "      |||||||\n",
    "       |||||\n",
    "        |||\n",
    "         |"
   ]
  },
  {
   "cell_type": "code",
   "execution_count": 11,
   "metadata": {},
   "outputs": [
    {
     "name": "stdout",
     "output_type": "stream",
     "text": [
      "Enter No of Rows: 5\n",
      "|||||||||\n",
      " |||||||\n",
      "  |||||\n",
      "   |||\n",
      "    |\n"
     ]
    }
   ],
   "source": [
    "def inverted_pyramid(rows):\n",
    "    current_row = rows\n",
    "\n",
    "    while current_row >= 1:\n",
    "        spaces = rows - current_row\n",
    "        stars = 2 * current_row - 1\n",
    "\n",
    "        # Print spaces\n",
    "        print(\" \" * spaces, end=\"\")\n",
    "\n",
    "        # Print stars\n",
    "        print(\"|\" * stars)\n",
    "\n",
    "        current_row -= 1\n",
    "\n",
    "no_rows=int(input(\"Enter No of Rows: \"))\n",
    "inverted_pyramid(no_rows)\n"
   ]
  }
 ],
 "metadata": {
  "kernelspec": {
   "display_name": "Python 3",
   "language": "python",
   "name": "python3"
  },
  "language_info": {
   "codemirror_mode": {
    "name": "ipython",
    "version": 3
   },
   "file_extension": ".py",
   "mimetype": "text/x-python",
   "name": "python",
   "nbconvert_exporter": "python",
   "pygments_lexer": "ipython3",
   "version": "3.7.4"
  }
 },
 "nbformat": 4,
 "nbformat_minor": 2
}
